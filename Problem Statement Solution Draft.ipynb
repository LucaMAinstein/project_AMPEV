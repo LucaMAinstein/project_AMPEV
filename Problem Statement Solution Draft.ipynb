{
 "cells": [
  {
   "cell_type": "markdown",
   "metadata": {
    "application/vnd.databricks.v1+cell": {
     "cellMetadata": {},
     "inputWidgets": {},
     "nuid": "d1b8400d-76a2-4e4f-805e-3f48976d5fb0",
     "showTitle": false,
     "tableResultSettingsMap": {},
     "title": ""
    }
   },
   "source": [
    "## Problem Statement:\n",
    "    1. TOP 5 empresas que + compravam\n",
    "    2. 5 prod + vendidos\n",
    "    3. 5 prod + faturamento\n",
    "### EXTRA: \n",
    "    4. Distribuição de venda total por mês\n",
    "\n",
    "## Tabela 1: Tabela geral para consumo (deveria talvez ser a camada SILVER?)\n",
    "  | ID_Pedido | ID_Estabelecimento | Nome Estabelecimento | Produto | Quantidade | Preço | Faturamento|\n",
    "  |---------|------|--|---|---------|------|--|\n",
    "\n",
    "## Tabela 2:\n",
    "  | ID_Estabelecimento | Nome Estabelecimento | Quantidade | Faturamento|Custo Unitário Médio|\n",
    "  |------|--|---|---------|------|\n",
    "  |-|-|SOMA|SOMA|FAT/QTT|\n",
    "\n",
    "## Tabela 3:\n",
    "  | Produto | Quantidade | Preço | Faturamento| # Pedidos | Qtt/pedido | $/pedido |\n",
    "  |---------|------|--|---|---------|------|--|\n",
    "  |-|SOMA|-|SOMA|COUNT|formula|formula|\n"
   ]
  },
  {
   "cell_type": "code",
   "execution_count": 0,
   "metadata": {
    "application/vnd.databricks.v1+cell": {
     "cellMetadata": {
      "byteLimit": 2048000,
      "rowLimit": 10000
     },
     "inputWidgets": {},
     "nuid": "4513b83b-4fb0-42e2-ac52-2ea9b8006176",
     "showTitle": false,
     "tableResultSettingsMap": {},
     "title": ""
    }
   },
   "outputs": [],
   "source": [
    "import matplotlib.pyplot as plt"
   ]
  },
  {
   "cell_type": "code",
   "execution_count": 0,
   "metadata": {
    "application/vnd.databricks.v1+cell": {
     "cellMetadata": {
      "byteLimit": 2048000,
      "implicitDf": true,
      "rowLimit": 10000
     },
     "inputWidgets": {},
     "nuid": "402bfb5a-27dd-4f16-80f6-7dba8ab7e6d7",
     "showTitle": false,
     "tableResultSettingsMap": {},
     "title": ""
    }
   },
   "outputs": [
    {
     "output_type": "display_data",
     "data": {
      "text/html": [
       "<style scoped>\n",
       "  .table-result-container {\n",
       "    max-height: 300px;\n",
       "    overflow: auto;\n",
       "  }\n",
       "  table, th, td {\n",
       "    border: 1px solid black;\n",
       "    border-collapse: collapse;\n",
       "  }\n",
       "  th, td {\n",
       "    padding: 5px;\n",
       "  }\n",
       "  th {\n",
       "    text-align: left;\n",
       "  }\n",
       "</style><div class='table-result-container'><table class='table-result'><thead style='background-color: white'><tr><th>id_pedido</th><th>id_estabelecimento</th><th>Produto</th><th>quantidade_vendida</th><th>Preco_Unitario</th><th>data_venda</th><th>nome_estabalecimento</th><th>Email</th><th>Telefone</th></tr></thead><tbody><tr><td>1</td><td>50</td><td>Suco Natural</td><td>440</td><td>11.11</td><td>2023-07-22</td><td>Bar do João</td><td>joao@bardojoao.com</td><td>(71) 98909-8853</td></tr><tr><td>2</td><td>12</td><td>Refrigerante 123</td><td>278</td><td>15.45</td><td>2024-07-06</td><td>Pastelaria do Mário</td><td>contato@pastelariadomario.com</td><td>(21) 99320-8273</td></tr></tbody></table></div>"
      ]
     },
     "metadata": {
      "application/vnd.databricks.v1+output": {
       "addedWidgets": {},
       "aggData": [],
       "aggError": "",
       "aggOverflow": false,
       "aggSchema": [],
       "aggSeriesLimitReached": false,
       "aggType": "",
       "arguments": {},
       "columnCustomDisplayInfos": {},
       "data": [
        [
         1,
         50,
         "Suco Natural",
         440,
         "11.11",
         "2023-07-22",
         "Bar do João",
         "joao@bardojoao.com",
         "(71) 98909-8853"
        ],
        [
         2,
         12,
         "Refrigerante 123",
         278,
         "15.45",
         "2024-07-06",
         "Pastelaria do Mário",
         "contato@pastelariadomario.com",
         "(21) 99320-8273"
        ]
       ],
       "datasetInfos": [],
       "dbfsResultPath": null,
       "isJsonSchema": true,
       "metadata": {
        "dataframeName": "_sqldf",
        "executionCount": 23
       },
       "overflow": false,
       "plotOptions": {
        "customPlotOptions": {},
        "displayType": "table",
        "pivotAggregation": null,
        "pivotColumns": null,
        "xColumns": null,
        "yColumns": null
       },
       "removedWidgets": [],
       "schema": [
        {
         "metadata": "{\"comment\":\"ID do Pedido (PK)\"}",
         "name": "id_pedido",
         "type": "\"integer\""
        },
        {
         "metadata": "{\"comment\":\"ID do Establ (FK)\"}",
         "name": "id_estabelecimento",
         "type": "\"integer\""
        },
        {
         "metadata": "{\"comment\":\"Nome do Produto\"}",
         "name": "Produto",
         "type": "\"string\""
        },
        {
         "metadata": "{\"comment\":\"Quantidade vendida na operação\"}",
         "name": "quantidade_vendida",
         "type": "\"integer\""
        },
        {
         "metadata": "{\"comment\":\"Preço unitario lançado\"}",
         "name": "Preco_Unitario",
         "type": "\"decimal(20,2)\""
        },
        {
         "metadata": "{\"comment\":\"data\"}",
         "name": "data_venda",
         "type": "\"date\""
        },
        {
         "metadata": "{\"comment\":\"nome fantasia\"}",
         "name": "nome_estabalecimento",
         "type": "\"string\""
        },
        {
         "metadata": "{\"comment\":\"string\"}",
         "name": "Email",
         "type": "\"string\""
        },
        {
         "metadata": "{\"comment\":\"com DDD\"}",
         "name": "Telefone",
         "type": "\"string\""
        }
       ],
       "type": "table"
      }
     },
     "output_type": "display_data"
    }
   ],
   "source": [
    "%sql\n",
    "SELECT * FROM silver.pedidos\n",
    "LIMIT 2;"
   ]
  },
  {
   "cell_type": "code",
   "execution_count": 0,
   "metadata": {
    "application/vnd.databricks.v1+cell": {
     "cellMetadata": {
      "byteLimit": 2048000,
      "implicitDf": true,
      "rowLimit": 10000
     },
     "inputWidgets": {},
     "nuid": "19b97899-ec39-4118-ba3b-7c16b00fa7c6",
     "showTitle": false,
     "tableResultSettingsMap": {},
     "title": ""
    }
   },
   "outputs": [
    {
     "output_type": "display_data",
     "data": {
      "text/html": [
       "<style scoped>\n",
       "  .table-result-container {\n",
       "    max-height: 300px;\n",
       "    overflow: auto;\n",
       "  }\n",
       "  table, th, td {\n",
       "    border: 1px solid black;\n",
       "    border-collapse: collapse;\n",
       "  }\n",
       "  th, td {\n",
       "    padding: 5px;\n",
       "  }\n",
       "  th {\n",
       "    text-align: left;\n",
       "  }\n",
       "</style><div class='table-result-container'><table class='table-result'><thead style='background-color: white'><tr><th>id_estabelecimento</th><th>nome_estabalecimento</th><th>faturamento</th><th>quantidade_total</th><th>preco_medio</th></tr></thead><tbody><tr><td>15</td><td>Padoca do Zé</td><td>40116.67</td><td>3077</td><td>13.04</td></tr><tr><td>27</td><td>Oficina Mecânica</td><td>32641.69</td><td>2188</td><td>14.92</td></tr><tr><td>4</td><td>Padaria do Paulo</td><td>29919.66</td><td>2361</td><td>12.67</td></tr><tr><td>31</td><td>Bar e Grill</td><td>27440.37</td><td>1902</td><td>14.43</td></tr><tr><td>39</td><td>Bar da Esquina</td><td>27249.56</td><td>2065</td><td>13.20</td></tr></tbody></table></div>"
      ]
     },
     "metadata": {
      "application/vnd.databricks.v1+output": {
       "addedWidgets": {},
       "aggData": [],
       "aggError": "",
       "aggOverflow": false,
       "aggSchema": [],
       "aggSeriesLimitReached": false,
       "aggType": "",
       "arguments": {},
       "columnCustomDisplayInfos": {},
       "data": [
        [
         15,
         "Padoca do Zé",
         "40116.67",
         3077,
         "13.04"
        ],
        [
         27,
         "Oficina Mecânica",
         "32641.69",
         2188,
         "14.92"
        ],
        [
         4,
         "Padaria do Paulo",
         "29919.66",
         2361,
         "12.67"
        ],
        [
         31,
         "Bar e Grill",
         "27440.37",
         1902,
         "14.43"
        ],
        [
         39,
         "Bar da Esquina",
         "27249.56",
         2065,
         "13.20"
        ]
       ],
       "datasetInfos": [],
       "dbfsResultPath": null,
       "isJsonSchema": true,
       "metadata": {
        "dataframeName": "_sqldf",
        "executionCount": 22
       },
       "overflow": false,
       "plotOptions": {
        "customPlotOptions": {},
        "displayType": "table",
        "pivotAggregation": null,
        "pivotColumns": null,
        "xColumns": null,
        "yColumns": null
       },
       "removedWidgets": [],
       "schema": [
        {
         "metadata": "{\"comment\":\"ID do Establ (FK)\"}",
         "name": "id_estabelecimento",
         "type": "\"integer\""
        },
        {
         "metadata": "{\"comment\":\"nome fantasia\"}",
         "name": "nome_estabalecimento",
         "type": "\"string\""
        },
        {
         "metadata": "{}",
         "name": "faturamento",
         "type": "\"decimal(38,2)\""
        },
        {
         "metadata": "{}",
         "name": "quantidade_total",
         "type": "\"long\""
        },
        {
         "metadata": "{}",
         "name": "preco_medio",
         "type": "\"decimal(20,2)\""
        }
       ],
       "type": "table"
      }
     },
     "output_type": "display_data"
    }
   ],
   "source": [
    "%sql\n",
    "-- ITEM 1\n",
    "SELECT \n",
    "  id_estabelecimento, \n",
    "  nome_estabalecimento,\n",
    "  SUM(quantidade_vendida * Preco_Unitario) AS faturamento,\n",
    "  SUM(quantidade_vendida) AS quantidade_total,\n",
    "  CAST(faturamento/quantidade_total AS DECIMAL(20,2)) AS preco_medio\n",
    "FROM silver.pedidos\n",
    "GROUP BY \n",
    "  id_estabelecimento,\n",
    "  nome_estabalecimento\n",
    "ORDER BY faturamento DESC\n",
    "LIMIT 5;"
   ]
  },
  {
   "cell_type": "code",
   "execution_count": 0,
   "metadata": {
    "application/vnd.databricks.v1+cell": {
     "cellMetadata": {
      "byteLimit": 2048000,
      "implicitDf": true,
      "rowLimit": 10000
     },
     "inputWidgets": {},
     "nuid": "f65d2887-1041-4c5c-a522-3ab342b1732e",
     "showTitle": false,
     "tableResultSettingsMap": {},
     "title": ""
    }
   },
   "outputs": [
    {
     "output_type": "display_data",
     "data": {
      "text/html": [
       "<style scoped>\n",
       "  .table-result-container {\n",
       "    max-height: 300px;\n",
       "    overflow: auto;\n",
       "  }\n",
       "  table, th, td {\n",
       "    border: 1px solid black;\n",
       "    border-collapse: collapse;\n",
       "  }\n",
       "  th, td {\n",
       "    padding: 5px;\n",
       "  }\n",
       "  th {\n",
       "    text-align: left;\n",
       "  }\n",
       "</style><div class='table-result-container'><table class='table-result'><thead style='background-color: white'><tr><th>Produto</th><th>faturamento</th><th>quantidade_total</th><th>preco_medio</th></tr></thead><tbody><tr><td>Cerveja XYZ</td><td>165041.51</td><td>15036</td><td>10.98</td></tr><tr><td>Vinho ABC</td><td>168253.57</td><td>14191</td><td>11.86</td></tr><tr><td>Suco Natural</td><td>126052.65</td><td>12931</td><td>9.75</td></tr><tr><td>Água Mineral</td><td>135812.69</td><td>12874</td><td>10.55</td></tr><tr><td>Refrigerante 123</td><td>129574.58</td><td>11741</td><td>11.04</td></tr></tbody></table></div>"
      ]
     },
     "metadata": {
      "application/vnd.databricks.v1+output": {
       "addedWidgets": {},
       "aggData": [],
       "aggError": "",
       "aggOverflow": false,
       "aggSchema": [],
       "aggSeriesLimitReached": false,
       "aggType": "",
       "arguments": {},
       "columnCustomDisplayInfos": {},
       "data": [
        [
         "Cerveja XYZ",
         "165041.51",
         15036,
         "10.98"
        ],
        [
         "Vinho ABC",
         "168253.57",
         14191,
         "11.86"
        ],
        [
         "Suco Natural",
         "126052.65",
         12931,
         "9.75"
        ],
        [
         "Água Mineral",
         "135812.69",
         12874,
         "10.55"
        ],
        [
         "Refrigerante 123",
         "129574.58",
         11741,
         "11.04"
        ]
       ],
       "datasetInfos": [],
       "dbfsResultPath": null,
       "isJsonSchema": true,
       "metadata": {
        "dataframeName": "_sqldf",
        "executionCount": 28
       },
       "overflow": false,
       "plotOptions": {
        "customPlotOptions": {},
        "displayType": "table",
        "pivotAggregation": null,
        "pivotColumns": null,
        "xColumns": null,
        "yColumns": null
       },
       "removedWidgets": [],
       "schema": [
        {
         "metadata": "{\"comment\":\"Nome do Produto\"}",
         "name": "Produto",
         "type": "\"string\""
        },
        {
         "metadata": "{}",
         "name": "faturamento",
         "type": "\"decimal(38,2)\""
        },
        {
         "metadata": "{}",
         "name": "quantidade_total",
         "type": "\"long\""
        },
        {
         "metadata": "{}",
         "name": "preco_medio",
         "type": "\"decimal(20,2)\""
        }
       ],
       "type": "table"
      }
     },
     "output_type": "display_data"
    }
   ],
   "source": [
    "%sql\n",
    "-- ITEM 2\n",
    "SELECT \n",
    "  Produto, \n",
    "  SUM(quantidade_vendida * Preco_Unitario) AS faturamento,\n",
    "  SUM(quantidade_vendida) AS quantidade_total,\n",
    "  CAST(faturamento/quantidade_total AS DECIMAL(20,2)) AS preco_medio\n",
    "FROM silver.pedidos\n",
    "GROUP BY \n",
    "  Produto\n",
    "ORDER BY quantidade_total DESC\n",
    "LIMIT 5;"
   ]
  },
  {
   "cell_type": "code",
   "execution_count": 0,
   "metadata": {
    "application/vnd.databricks.v1+cell": {
     "cellMetadata": {
      "byteLimit": 2048000,
      "implicitDf": true,
      "rowLimit": 10000
     },
     "inputWidgets": {},
     "nuid": "8e3bc83a-2772-48ac-9381-b96f8b78a570",
     "showTitle": false,
     "tableResultSettingsMap": {},
     "title": ""
    }
   },
   "outputs": [
    {
     "output_type": "display_data",
     "data": {
      "text/html": [
       "<style scoped>\n",
       "  .table-result-container {\n",
       "    max-height: 300px;\n",
       "    overflow: auto;\n",
       "  }\n",
       "  table, th, td {\n",
       "    border: 1px solid black;\n",
       "    border-collapse: collapse;\n",
       "  }\n",
       "  th, td {\n",
       "    padding: 5px;\n",
       "  }\n",
       "  th {\n",
       "    text-align: left;\n",
       "  }\n",
       "</style><div class='table-result-container'><table class='table-result'><thead style='background-color: white'><tr><th>Produto</th><th>faturamento</th><th>quantidade_total</th><th>preco_medio</th></tr></thead><tbody><tr><td>Vinho ABC</td><td>168253.57</td><td>14191</td><td>11.86</td></tr><tr><td>Cerveja XYZ</td><td>165041.51</td><td>15036</td><td>10.98</td></tr><tr><td>Água Mineral</td><td>135812.69</td><td>12874</td><td>10.55</td></tr><tr><td>Refrigerante 123</td><td>129574.58</td><td>11741</td><td>11.04</td></tr><tr><td>Suco Natural</td><td>126052.65</td><td>12931</td><td>9.75</td></tr></tbody></table></div>"
      ]
     },
     "metadata": {
      "application/vnd.databricks.v1+output": {
       "addedWidgets": {},
       "aggData": [],
       "aggError": "",
       "aggOverflow": false,
       "aggSchema": [],
       "aggSeriesLimitReached": false,
       "aggType": "",
       "arguments": {},
       "columnCustomDisplayInfos": {},
       "data": [
        [
         "Vinho ABC",
         "168253.57",
         14191,
         "11.86"
        ],
        [
         "Cerveja XYZ",
         "165041.51",
         15036,
         "10.98"
        ],
        [
         "Água Mineral",
         "135812.69",
         12874,
         "10.55"
        ],
        [
         "Refrigerante 123",
         "129574.58",
         11741,
         "11.04"
        ],
        [
         "Suco Natural",
         "126052.65",
         12931,
         "9.75"
        ]
       ],
       "datasetInfos": [],
       "dbfsResultPath": null,
       "isJsonSchema": true,
       "metadata": {
        "dataframeName": "_sqldf",
        "executionCount": 27
       },
       "overflow": false,
       "plotOptions": {
        "customPlotOptions": {},
        "displayType": "table",
        "pivotAggregation": null,
        "pivotColumns": null,
        "xColumns": null,
        "yColumns": null
       },
       "removedWidgets": [],
       "schema": [
        {
         "metadata": "{\"comment\":\"Nome do Produto\"}",
         "name": "Produto",
         "type": "\"string\""
        },
        {
         "metadata": "{}",
         "name": "faturamento",
         "type": "\"decimal(38,2)\""
        },
        {
         "metadata": "{}",
         "name": "quantidade_total",
         "type": "\"long\""
        },
        {
         "metadata": "{}",
         "name": "preco_medio",
         "type": "\"decimal(20,2)\""
        }
       ],
       "type": "table"
      }
     },
     "output_type": "display_data"
    }
   ],
   "source": [
    "%sql\n",
    "-- ITEM 3\n",
    "SELECT \n",
    "  Produto, \n",
    "  SUM(quantidade_vendida * Preco_Unitario) AS faturamento,\n",
    "  SUM(quantidade_vendida) AS quantidade_total,\n",
    "  CAST(faturamento/quantidade_total AS DECIMAL(20,2)) AS preco_medio\n",
    "FROM silver.pedidos\n",
    "GROUP BY \n",
    "  Produto\n",
    "ORDER BY faturamento DESC\n",
    "LIMIT 5;"
   ]
  },
  {
   "cell_type": "code",
   "execution_count": 0,
   "metadata": {
    "application/vnd.databricks.v1+cell": {
     "cellMetadata": {
      "byteLimit": 2048000,
      "implicitDf": true,
      "rowLimit": 10000
     },
     "inputWidgets": {},
     "nuid": "f8178d4d-bc88-4ae2-a62b-63779ca2071f",
     "showTitle": false,
     "tableResultSettingsMap": {},
     "title": ""
    }
   },
   "outputs": [
    {
     "output_type": "display_data",
     "data": {
      "text/html": [
       "<style scoped>\n",
       "  .table-result-container {\n",
       "    max-height: 300px;\n",
       "    overflow: auto;\n",
       "  }\n",
       "  table, th, td {\n",
       "    border: 1px solid black;\n",
       "    border-collapse: collapse;\n",
       "  }\n",
       "  th, td {\n",
       "    padding: 5px;\n",
       "  }\n",
       "  th {\n",
       "    text-align: left;\n",
       "  }\n",
       "</style><div class='table-result-container'><table class='table-result'><thead style='background-color: white'><tr><th>Produto</th><th>total_quantidade_vendida</th></tr></thead><tbody><tr><td>Cerveja XYZ</td><td>15036</td></tr><tr><td>Vinho ABC</td><td>14191</td></tr><tr><td>Suco Natural</td><td>12931</td></tr><tr><td>Água Mineral</td><td>12874</td></tr><tr><td>Refrigerante 123</td><td>11741</td></tr></tbody></table></div>"
      ]
     },
     "metadata": {
      "application/vnd.databricks.v1+output": {
       "addedWidgets": {},
       "aggData": [],
       "aggError": "",
       "aggOverflow": false,
       "aggSchema": [],
       "aggSeriesLimitReached": false,
       "aggType": "",
       "arguments": {},
       "columnCustomDisplayInfos": {},
       "data": [
        [
         "Cerveja XYZ",
         15036
        ],
        [
         "Vinho ABC",
         14191
        ],
        [
         "Suco Natural",
         12931
        ],
        [
         "Água Mineral",
         12874
        ],
        [
         "Refrigerante 123",
         11741
        ]
       ],
       "datasetInfos": [],
       "dbfsResultPath": null,
       "isJsonSchema": true,
       "metadata": {
        "dataframeName": "_sqldf",
        "executionCount": 29
       },
       "overflow": false,
       "plotOptions": {
        "customPlotOptions": {},
        "displayType": "table",
        "pivotAggregation": null,
        "pivotColumns": null,
        "xColumns": null,
        "yColumns": null
       },
       "removedWidgets": [],
       "schema": [
        {
         "metadata": "{\"comment\":\"Nome do Produto\"}",
         "name": "Produto",
         "type": "\"string\""
        },
        {
         "metadata": "{}",
         "name": "total_quantidade_vendida",
         "type": "\"long\""
        }
       ],
       "type": "table"
      }
     },
     "output_type": "display_data"
    },
    {
     "output_type": "display_data",
     "data": {
      "text/plain": [
       "Databricks visualization. Run in Databricks to view."
      ]
     },
     "metadata": {
      "application/vnd.databricks.v1.subcommand+json": {
       "baseErrorDetails": null,
       "bindings": {},
       "collapsed": false,
       "command": "%sql WITH q AS (SELECT \n  Produto,\n  SUM(quantidade_vendida) AS total_quantidade_vendida\nFROM\n  silver.pedidos\nGROUP BY\n  Produto\nORDER BY SUM(quantidade_vendida) DESC\nLIMIT 5) SELECT `Produto`,SUM(`total_quantidade_vendida`) `column_55062b8320` FROM q GROUP BY `Produto`",
       "commandTitle": "Visualization 1",
       "commandType": "auto",
       "commandVersion": 0,
       "commentThread": [],
       "commentsVisible": false,
       "contentSha256Hex": null,
       "customPlotOptions": {
        "redashChart": [
         {
          "key": "type",
          "value": "CHART"
         },
         {
          "key": "options",
          "value": {
           "alignYAxesAtZero": true,
           "coefficient": 1,
           "columnConfigurationMap": {
            "x": {
             "column": "Produto",
             "id": "column_55062b8319"
            },
            "y": [
             {
              "column": "total_quantidade_vendida",
              "id": "column_55062b8320",
              "transform": "SUM"
             }
            ]
           },
           "dateTimeFormat": "DD/MM/YYYY HH:mm",
           "direction": {
            "type": "counterclockwise"
           },
           "error_y": {
            "type": "data",
            "visible": true
           },
           "globalSeriesType": "column",
           "isAggregationOn": true,
           "legend": {
            "traceorder": "normal"
           },
           "missingValuesAsZero": true,
           "numberFormat": "0,0.[00000]",
           "percentFormat": "0[.]00%",
           "series": {
            "error_y": {
             "type": "data",
             "visible": true
            },
            "stacking": null
           },
           "seriesOptions": {
            "column_55062b8320": {
             "color": "#049235",
             "name": "total_quantidade_vendida",
             "type": "column",
             "yAxis": 0
            }
           },
           "showDataLabels": false,
           "sizemode": "diameter",
           "sortX": false,
           "sortY": true,
           "swappedAxes": false,
           "textFormat": "",
           "useAggregationsUi": true,
           "valuesOptions": {},
           "version": 2,
           "xAxis": {
            "labels": {
             "enabled": true
            },
            "type": "-"
           },
           "yAxis": [
            {
             "type": "-"
            },
            {
             "opposite": true,
             "type": "-"
            }
           ]
          }
         }
        ]
       },
       "datasetPreviewNameToCmdIdMap": {},
       "diffDeletes": [],
       "diffInserts": [],
       "displayType": "redashChart",
       "error": null,
       "errorDetails": null,
       "errorSummary": null,
       "errorTraceType": null,
       "finishTime": 0,
       "globalVars": {},
       "guid": "",
       "height": "auto",
       "hideCommandCode": false,
       "hideCommandResult": false,
       "iPythonMetadata": null,
       "inputWidgets": {},
       "isLockedInExamMode": false,
       "latestUser": "a user",
       "latestUserId": null,
       "listResultMetadata": null,
       "metadata": {},
       "nuid": "f5ce8385-c2bc-4d45-965a-400e5a41877e",
       "origId": 0,
       "parentHierarchy": [],
       "pivotAggregation": null,
       "pivotColumns": null,
       "position": 5.0,
       "resultDbfsErrorMessage": null,
       "resultDbfsStatus": "INLINED_IN_TREE",
       "results": null,
       "showCommandTitle": false,
       "startTime": 0,
       "state": "input",
       "streamStates": {},
       "subcommandOptions": {
        "queryPlan": {
         "groups": [
          {
           "column": "Produto",
           "type": "column"
          }
         ],
         "selects": [
          {
           "column": "Produto",
           "type": "column"
          },
          {
           "alias": "column_55062b8320",
           "args": [
            {
             "column": "total_quantidade_vendida",
             "type": "column"
            }
           ],
           "function": "SUM",
           "type": "function"
          }
         ]
        }
       },
       "submitTime": 0,
       "subtype": "tableResultSubCmd.visualization",
       "tableResultIndex": 0,
       "tableResultSettingsMap": {},
       "useConsistentColors": false,
       "version": "CommandV1",
       "width": "auto",
       "workflows": [],
       "xColumns": null,
       "yColumns": null
      }
     },
     "output_type": "display_data"
    }
   ],
   "source": [
    "%sql\n",
    "-- 2. 5 prod + vendidos\n",
    "-- jeito 2 de fazer (mais economico em memória, provavelmente!)\n",
    "SELECT \n",
    "  Produto,\n",
    "  SUM(quantidade_vendida) AS total_quantidade_vendida\n",
    "FROM\n",
    "  silver.pedidos\n",
    "GROUP BY\n",
    "  Produto\n",
    "ORDER BY SUM(quantidade_vendida) DESC\n",
    "LIMIT 5;"
   ]
  },
  {
   "cell_type": "code",
   "execution_count": 0,
   "metadata": {
    "application/vnd.databricks.v1+cell": {
     "cellMetadata": {
      "byteLimit": 2048000,
      "implicitDf": true,
      "rowLimit": 10000
     },
     "inputWidgets": {},
     "nuid": "e0534f67-4e8e-4da1-aa49-a13ab2858760",
     "showTitle": false,
     "tableResultSettingsMap": {},
     "title": ""
    }
   },
   "outputs": [
    {
     "output_type": "display_data",
     "data": {
      "text/html": [
       "<style scoped>\n",
       "  .table-result-container {\n",
       "    max-height: 300px;\n",
       "    overflow: auto;\n",
       "  }\n",
       "  table, th, td {\n",
       "    border: 1px solid black;\n",
       "    border-collapse: collapse;\n",
       "  }\n",
       "  th, td {\n",
       "    padding: 5px;\n",
       "  }\n",
       "  th {\n",
       "    text-align: left;\n",
       "  }\n",
       "</style><div class='table-result-container'><table class='table-result'><thead style='background-color: white'><tr><th>Produto</th><th>faturamento</th></tr></thead><tbody><tr><td>Vinho ABC</td><td>168253.57</td></tr><tr><td>Cerveja XYZ</td><td>165041.51</td></tr><tr><td>Água Mineral</td><td>135812.69</td></tr><tr><td>Refrigerante 123</td><td>129574.58</td></tr><tr><td>Suco Natural</td><td>126052.65</td></tr></tbody></table></div>"
      ]
     },
     "metadata": {
      "application/vnd.databricks.v1+output": {
       "addedWidgets": {},
       "aggData": [],
       "aggError": "",
       "aggOverflow": false,
       "aggSchema": [],
       "aggSeriesLimitReached": false,
       "aggType": "",
       "arguments": {},
       "columnCustomDisplayInfos": {},
       "data": [
        [
         "Vinho ABC",
         "168253.57"
        ],
        [
         "Cerveja XYZ",
         "165041.51"
        ],
        [
         "Água Mineral",
         "135812.69"
        ],
        [
         "Refrigerante 123",
         "129574.58"
        ],
        [
         "Suco Natural",
         "126052.65"
        ]
       ],
       "datasetInfos": [],
       "dbfsResultPath": null,
       "isJsonSchema": true,
       "metadata": {
        "dataframeName": "_sqldf",
        "executionCount": 5
       },
       "overflow": false,
       "plotOptions": {
        "customPlotOptions": {},
        "displayType": "table",
        "pivotAggregation": null,
        "pivotColumns": null,
        "xColumns": null,
        "yColumns": null
       },
       "removedWidgets": [],
       "schema": [
        {
         "metadata": "{\"comment\":\"Nome do Produto\"}",
         "name": "Produto",
         "type": "\"string\""
        },
        {
         "metadata": "{}",
         "name": "faturamento",
         "type": "\"decimal(38,2)\""
        }
       ],
       "type": "table"
      }
     },
     "output_type": "display_data"
    }
   ],
   "source": [
    "%sql\n",
    "-- 3. 5 prod + faturamento\n",
    "-- jeito 2 de fazer (mais economico em memória, provavelmente!)\n",
    "SELECT \n",
    "  Produto,\n",
    "  SUM(quantidade_vendida*Preco_Unitario) AS faturamento\n",
    "FROM\n",
    "  silver.pedidos\n",
    "GROUP BY\n",
    "  Produto\n",
    "ORDER BY SUM(quantidade_vendida*Preco_Unitario) DESC\n",
    "LIMIT 5;"
   ]
  },
  {
   "cell_type": "code",
   "execution_count": 0,
   "metadata": {
    "application/vnd.databricks.v1+cell": {
     "cellMetadata": {
      "byteLimit": 2048000,
      "implicitDf": true,
      "rowLimit": 10000
     },
     "inputWidgets": {},
     "nuid": "09783108-7c20-43b8-9fd4-9c6397abc7c6",
     "showTitle": false,
     "tableResultSettingsMap": {},
     "title": ""
    }
   },
   "outputs": [
    {
     "output_type": "display_data",
     "data": {
      "text/html": [
       "<style scoped>\n",
       "  .table-result-container {\n",
       "    max-height: 300px;\n",
       "    overflow: auto;\n",
       "  }\n",
       "  table, th, td {\n",
       "    border: 1px solid black;\n",
       "    border-collapse: collapse;\n",
       "  }\n",
       "  th, td {\n",
       "    padding: 5px;\n",
       "  }\n",
       "  th {\n",
       "    text-align: left;\n",
       "  }\n",
       "</style><div class='table-result-container'><table class='table-result'><thead style='background-color: white'><tr><th>min(data_venda)</th><th>max(data_venda)</th></tr></thead><tbody><tr><td>2023-07-11</td><td>2024-07-10</td></tr></tbody></table></div>"
      ]
     },
     "metadata": {
      "application/vnd.databricks.v1+output": {
       "addedWidgets": {},
       "aggData": [],
       "aggError": "",
       "aggOverflow": false,
       "aggSchema": [],
       "aggSeriesLimitReached": false,
       "aggType": "",
       "arguments": {},
       "columnCustomDisplayInfos": {},
       "data": [
        [
         "2023-07-11",
         "2024-07-10"
        ]
       ],
       "datasetInfos": [],
       "dbfsResultPath": null,
       "isJsonSchema": true,
       "metadata": {
        "dataframeName": "_sqldf",
        "executionCount": 30
       },
       "overflow": false,
       "plotOptions": {
        "customPlotOptions": {},
        "displayType": "table",
        "pivotAggregation": null,
        "pivotColumns": null,
        "xColumns": null,
        "yColumns": null
       },
       "removedWidgets": [],
       "schema": [
        {
         "metadata": "{\"__autoGeneratedAlias\":\"true\"}",
         "name": "min(data_venda)",
         "type": "\"date\""
        },
        {
         "metadata": "{\"__autoGeneratedAlias\":\"true\"}",
         "name": "max(data_venda)",
         "type": "\"date\""
        }
       ],
       "type": "table"
      }
     },
     "output_type": "display_data"
    }
   ],
   "source": [
    "%sql\n",
    "\n",
    "SELECT\n",
    "  MIN(data_venda),\n",
    "  MAX(data_venda)\n",
    "FROM silver.pedidos;"
   ]
  },
  {
   "cell_type": "code",
   "execution_count": 0,
   "metadata": {
    "application/vnd.databricks.v1+cell": {
     "cellMetadata": {
      "byteLimit": 2048000,
      "implicitDf": true,
      "rowLimit": 10000
     },
     "inputWidgets": {},
     "nuid": "736c6654-329d-4911-93d2-fb62c1eec125",
     "showTitle": false,
     "tableResultSettingsMap": {},
     "title": ""
    }
   },
   "outputs": [
    {
     "output_type": "display_data",
     "data": {
      "text/html": [
       "<style scoped>\n",
       "  .table-result-container {\n",
       "    max-height: 300px;\n",
       "    overflow: auto;\n",
       "  }\n",
       "  table, th, td {\n",
       "    border: 1px solid black;\n",
       "    border-collapse: collapse;\n",
       "  }\n",
       "  th, td {\n",
       "    padding: 5px;\n",
       "  }\n",
       "  th {\n",
       "    text-align: left;\n",
       "  }\n",
       "</style><div class='table-result-container'><table class='table-result'><thead style='background-color: white'><tr><th>year_month</th><th>faturamento</th><th>faturam_top5_empresas</th></tr></thead><tbody><tr><td>2023-07</td><td>33987.27</td><td>5384.01</td></tr><tr><td>2023-08</td><td>63758.35</td><td>24514.56</td></tr><tr><td>2023-09</td><td>81294.98</td><td>7787.16</td></tr><tr><td>2023-10</td><td>45259.91</td><td>16371.05</td></tr><tr><td>2023-11</td><td>66792.56</td><td>16301.82</td></tr><tr><td>2023-12</td><td>57310.15</td><td>6913.14</td></tr><tr><td>2024-01</td><td>55308.10</td><td>22994.81</td></tr><tr><td>2024-02</td><td>58914.52</td><td>7466.65</td></tr><tr><td>2024-03</td><td>57272.58</td><td>6760.92</td></tr><tr><td>2024-04</td><td>59854.70</td><td>16490.54</td></tr><tr><td>2024-05</td><td>86863.91</td><td>18503.94</td></tr><tr><td>2024-06</td><td>36528.39</td><td>7879.35</td></tr><tr><td>2024-07</td><td>21589.58</td><td>0.00</td></tr></tbody></table></div>"
      ]
     },
     "metadata": {
      "application/vnd.databricks.v1+output": {
       "addedWidgets": {},
       "aggData": [],
       "aggError": "",
       "aggOverflow": false,
       "aggSchema": [],
       "aggSeriesLimitReached": false,
       "aggType": "",
       "arguments": {},
       "columnCustomDisplayInfos": {},
       "data": [
        [
         "2023-07",
         "33987.27",
         "5384.01"
        ],
        [
         "2023-08",
         "63758.35",
         "24514.56"
        ],
        [
         "2023-09",
         "81294.98",
         "7787.16"
        ],
        [
         "2023-10",
         "45259.91",
         "16371.05"
        ],
        [
         "2023-11",
         "66792.56",
         "16301.82"
        ],
        [
         "2023-12",
         "57310.15",
         "6913.14"
        ],
        [
         "2024-01",
         "55308.10",
         "22994.81"
        ],
        [
         "2024-02",
         "58914.52",
         "7466.65"
        ],
        [
         "2024-03",
         "57272.58",
         "6760.92"
        ],
        [
         "2024-04",
         "59854.70",
         "16490.54"
        ],
        [
         "2024-05",
         "86863.91",
         "18503.94"
        ],
        [
         "2024-06",
         "36528.39",
         "7879.35"
        ],
        [
         "2024-07",
         "21589.58",
         "0.00"
        ]
       ],
       "datasetInfos": [],
       "dbfsResultPath": null,
       "isJsonSchema": true,
       "metadata": {
        "dataframeName": "_sqldf",
        "executionCount": 45
       },
       "overflow": false,
       "plotOptions": {
        "customPlotOptions": {},
        "displayType": "table",
        "pivotAggregation": null,
        "pivotColumns": null,
        "xColumns": null,
        "yColumns": null
       },
       "removedWidgets": [],
       "schema": [
        {
         "metadata": "{}",
         "name": "year_month",
         "type": "\"string\""
        },
        {
         "metadata": "{}",
         "name": "faturamento",
         "type": "\"decimal(38,2)\""
        },
        {
         "metadata": "{}",
         "name": "faturam_top5_empresas",
         "type": "\"decimal(38,2)\""
        }
       ],
       "type": "table"
      }
     },
     "output_type": "display_data"
    }
   ],
   "source": [
    "%sql\n",
    "-- Ver o faturamento MENSAL\n",
    "---- Selecionar lista de top 5 estabelec\n",
    "WITH \n",
    "  top5_estabelecimentos AS (\n",
    "  SELECT \n",
    "    id_estabelecimento\n",
    "  FROM silver.pedidos\n",
    "  GROUP BY id_estabelecimento\n",
    "  ORDER BY SUM(quantidade_vendida * Preco_Unitario) DESC\n",
    "  LIMIT 5\n",
    ")\n",
    "SELECT\n",
    "  date_format(data_venda, 'yyyy-MM') AS year_month,\n",
    "  SUM(quantidade_vendida * Preco_Unitario) AS faturamento,\n",
    "  SUM(CASE \n",
    "        WHEN id_estabelecimento IN (\n",
    "          SELECT id_estabelecimento FROM top5_estabelecimentos\n",
    "        ) THEN (quantidade_vendida * Preco_Unitario)\n",
    "        ELSE 0\n",
    "      END) AS faturam_top5_empresas\n",
    "FROM silver.pedidos\n",
    "GROUP BY year_month\n",
    "ORDER BY year_month ASC;"
   ]
  },
  {
   "cell_type": "code",
   "execution_count": 0,
   "metadata": {
    "application/vnd.databricks.v1+cell": {
     "cellMetadata": {
      "byteLimit": 2048000,
      "rowLimit": 10000
     },
     "inputWidgets": {},
     "nuid": "61ff7252-9dcc-4c3e-ac6d-b62abcd8c4c9",
     "showTitle": false,
     "tableResultSettingsMap": {},
     "title": ""
    }
   },
   "outputs": [
    {
     "output_type": "stream",
     "name": "stderr",
     "output_type": "stream",
     "text": [
      "/databricks/spark/python/pyspark/sql/pandas/utils.py:109: UserWarning: The conversion of DecimalType columns is inefficient and may take a long time. Column names: [faturamento, faturam_top5_empresas] If those columns are not necessary, you may consider dropping them or converting to primitive types before the conversion.\n  warnings.warn(\n"
     ]
    }
   ],
   "source": [
    "## Plotar um gráfico!\n",
    "\n",
    "df = spark.sql(\"\"\"\n",
    "WITH top5_estabelecimentos AS (\n",
    "  SELECT \n",
    "    id_estabelecimento\n",
    "  FROM silver.pedidos\n",
    "  GROUP BY id_estabelecimento\n",
    "  ORDER BY SUM(quantidade_vendida * Preco_Unitario) DESC\n",
    "  LIMIT 5\n",
    ")\n",
    "SELECT\n",
    "  date_format(data_venda, 'yyyy-MM') AS year_month,\n",
    "  SUM(quantidade_vendida * Preco_Unitario) AS faturamento,\n",
    "  SUM(CASE \n",
    "        WHEN id_estabelecimento IN (\n",
    "          SELECT id_estabelecimento FROM top5_estabelecimentos\n",
    "        ) THEN (quantidade_vendida * Preco_Unitario)\n",
    "        ELSE 0\n",
    "      END) AS faturam_top5_empresas\n",
    "FROM silver.pedidos\n",
    "GROUP BY year_month\n",
    "ORDER BY year_month ASC\n",
    "\"\"\").toPandas()"
   ]
  },
  {
   "cell_type": "code",
   "execution_count": 0,
   "metadata": {
    "application/vnd.databricks.v1+cell": {
     "cellMetadata": {
      "byteLimit": 2048000,
      "rowLimit": 10000
     },
     "inputWidgets": {},
     "nuid": "b1ebf6d7-1755-4205-a5cd-54a13d32bad7",
     "showTitle": false,
     "tableResultSettingsMap": {},
     "title": ""
    }
   },
   "outputs": [
    {
     "output_type": "display_data",
     "data": {
      "image/png": "[encoded data removed]",
      "text/plain": [
       "<Figure size 1000x600 with 1 Axes>"
      ]
     },
     "metadata": {},
     "output_type": "display_data"
    }
   ],
   "source": [
    "#Definir figura\n",
    "plt.figure(figsize=(10,6))\n",
    "\n",
    "# Plotar faturamento\n",
    "plt.plot(df['year_month'], df['faturamento'], label='Total Faturamento', marker='o', color='blue')\n",
    "\n",
    "# Plotar faturam_top5_empresas\n",
    "plt.plot(df['year_month'], df['faturam_top5_empresas'], label='Top 5 Faturamento', marker='o', color='red')\n",
    "\n",
    "# adicionar Labels\n",
    "plt.title('Monthly Faturamento by Top 5 Estabelecimentos')\n",
    "plt.xlabel('Month')\n",
    "plt.ylabel('Faturamento')\n",
    "plt.xticks(rotation=45)  # Rotate the x-axis labels for better readability\n",
    "plt.legend()\n",
    "\n",
    "plt.tight_layout()\n",
    "plt.show()"
   ]
  }
 ],
 "metadata": {
  "application/vnd.databricks.v1+notebook": {
   "computePreferences": null,
   "dashboards": [],
   "environmentMetadata": {
    "base_environment": "",
    "client": "1"
   },
   "language": "python",
   "notebookMetadata": {
    "mostRecentlyExecutedCommandWithImplicitDF": {
     "commandId": 449585001928320,
     "dataframes": [
      "_sqldf"
     ]
    },
    "pythonIndentUnit": 4
   },
   "notebookName": "Problem Statement Solution Draft",
   "widgets": {}
  }
 },
 "nbformat": 4,
 "nbformat_minor": 0
}
