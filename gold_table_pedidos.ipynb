{
 "cells": [
  {
   "cell_type": "markdown",
   "metadata": {
    "application/vnd.databricks.v1+cell": {
     "cellMetadata": {},
     "inputWidgets": {},
     "nuid": "9da2cd59-4341-4f54-9ec3-63ee17b2b509",
     "showTitle": false,
     "tableResultSettingsMap": {},
     "title": ""
    }
   },
   "source": [
    "# Camada GOLD\n",
    "\n",
    "## Informações Gerais\n",
    "  | Information | Details |\n",
    "  |---------|------|\n",
    "  |Table Name | gold.pedidos|\n",
    "  |Origem | silver.pedidos|\n",
    "\n",
    "## Histórico de Atualizações\n",
    "|Data | Desenvolvido por | Motivo |\n",
    "|:------:|--------|-------|\n",
    "|mm/dd/aaaa|Data Eng.|details|"
   ]
  },
  {
   "cell_type": "code",
   "execution_count": 0,
   "metadata": {
    "application/vnd.databricks.v1+cell": {
     "cellMetadata": {
      "byteLimit": 2048000,
      "rowLimit": 10000
     },
     "inputWidgets": {},
     "nuid": "b711eccc-03ea-4b7d-a00d-c57540bc2eec",
     "showTitle": false,
     "tableResultSettingsMap": {},
     "title": ""
    }
   },
   "outputs": [],
   "source": [
    "### Import of libs\n",
    "\n",
    "from pyspark.sql.functions import current_date, current_timestamp, expr"
   ]
  },
  {
   "cell_type": "code",
   "execution_count": 0,
   "metadata": {
    "application/vnd.databricks.v1+cell": {
     "cellMetadata": {
      "byteLimit": 2048000,
      "rowLimit": 10000
     },
     "inputWidgets": {},
     "nuid": "aac60ef5-fda3-4f11-8ad9-f9b43007dbc8",
     "showTitle": false,
     "tableResultSettingsMap": {},
     "title": ""
    }
   },
   "outputs": [],
   "source": [
    "### Nome do Esquema e Tabela no catálogo\n",
    "\n",
    "database = 'gold'\n",
    "tabela = 'venda_total_pedidos'"
   ]
  },
  {
   "cell_type": "code",
   "execution_count": 0,
   "metadata": {
    "application/vnd.databricks.v1+cell": {
     "cellMetadata": {
      "byteLimit": 2048000,
      "rowLimit": 10000
     },
     "inputWidgets": {},
     "nuid": "692a0704-4779-4449-a224-7ff89a98c275",
     "showTitle": false,
     "tableResultSettingsMap": {},
     "title": ""
    }
   },
   "outputs": [],
   "source": [
    "# Funções\n",
    "\n",
    "## Função que aplica comentário na tabela!\n",
    "\n",
    "def adicionaComentariosTabela(a,b,c,d):\n",
    "    spark.sql(f\"COMMENT ON TABLE {a}.{b} IS 'C'\")\n",
    "    for key,value in d.items():\n",
    "        sqlaux = f\"ALTER TABLE {a}.{b} CHANGE COLUMN {key} COMMENT '{value}'\"\n",
    "        spark.sql(sqlaux)"
   ]
  },
  {
   "cell_type": "code",
   "execution_count": 0,
   "metadata": {
    "application/vnd.databricks.v1+cell": {
     "cellMetadata": {
      "byteLimit": 2048000,
      "rowLimit": 10000
     },
     "inputWidgets": {},
     "nuid": "7a47af29-abb7-4a98-8e61-92ab5e7da3d4",
     "showTitle": false,
     "tableResultSettingsMap": {},
     "title": ""
    }
   },
   "outputs": [],
   "source": [
    "df_pedidos = spark.sql(\n",
    "f\"\"\"\n",
    "SELECT\n",
    "    Produto AS Nome_produto,\n",
    "    CAST(SUM(quantidade_vendida) AS INT) AS quantidade_total,\n",
    "    CAST(SUM(Preco_Unitario) AS DECIMAL(20,2)) AS valor_total,\n",
    "    CAST(SUM(Preco_Unitario*quantidade_vendida) AS DECIMAL(20,2)) AS faturamento_total\n",
    "FROM\n",
    "    silver.pedidos\n",
    "GROUP BY all\n",
    "\"\"\")"
   ]
  },
  {
   "cell_type": "code",
   "execution_count": 0,
   "metadata": {
    "application/vnd.databricks.v1+cell": {
     "cellMetadata": {
      "byteLimit": 2048000,
      "rowLimit": 10000
     },
     "inputWidgets": {},
     "nuid": "449c1994-a02d-45d7-a9ef-8fd87cf0b9d5",
     "showTitle": false,
     "tableResultSettingsMap": {},
     "title": ""
    }
   },
   "outputs": [],
   "source": [
    "## Incluir colunas de controle\n",
    "\n",
    "df_pedidos = df_pedidos.withColumn(\"data_carga\", current_date())\n",
    "df_pedidos = df_pedidos.withColumn(\"data_hora_carga\", expr(\"current_timestamp() - INTERVAL 3 HOURS\"))\n"
   ]
  },
  {
   "cell_type": "code",
   "execution_count": 0,
   "metadata": {
    "application/vnd.databricks.v1+cell": {
     "cellMetadata": {
      "byteLimit": 2048000,
      "rowLimit": 10000
     },
     "inputWidgets": {},
     "nuid": "e9667d9b-b190-4114-93a4-1d2ada01536a",
     "showTitle": false,
     "tableResultSettingsMap": {},
     "title": ""
    }
   },
   "outputs": [
    {
     "output_type": "stream",
     "name": "stdout",
     "output_type": "stream",
     "text": [
      "Dados Gravados!\n"
     ]
    }
   ],
   "source": [
    "## Na camada SILVER é necessário a existência de Metadados, para maior compreensão das colunas. \n",
    "#Isso pode ser feito de forma MANUAL ou automática\n",
    "\n",
    "# para automatico, ver a função AdicionaComentariosTabela\n",
    "\n",
    "comentario_tabela = \"esta tabela é uma tabela corporativa para XXX usos\"\n",
    "\n",
    "lista_comentario_colunas ={\n",
    "'Nome_produto' : 'chave do prodiuto',\n",
    "'quantidade_total': 'Quantidade vendida na operação',\n",
    "'faturamento_total': 'faturamento de vera',\n",
    "'valor_total': 'soma faturamento'\n",
    "}\n",
    "\n",
    "print('Dados Gravados!')\n",
    "\n"
   ]
  },
  {
   "cell_type": "code",
   "execution_count": 0,
   "metadata": {
    "application/vnd.databricks.v1+cell": {
     "cellMetadata": {
      "byteLimit": 2048000,
      "rowLimit": 10000
     },
     "inputWidgets": {},
     "nuid": "0b470183-1c32-49d3-abc7-1794396fac1c",
     "showTitle": false,
     "tableResultSettingsMap": {},
     "title": ""
    }
   },
   "outputs": [
    {
     "output_type": "stream",
     "name": "stdout",
     "output_type": "stream",
     "text": [
      "Dados gravados com sucesso\n"
     ]
    }
   ],
   "source": [
    "df_pedidos.write \\\n",
    "    .format('delta') \\\n",
    "    .mode('overwrite') \\\n",
    "    .clusterBy(\"nome_produto\") \\\n",
    "    .option('mergeSchema','true') \\\n",
    "    .option('overwriteSchema','true') \\\n",
    "    .saveAsTable(f'{database}.{tabela}')\n",
    "adicionaComentariosTabela(database,tabela,comentario_tabela,lista_comentario_colunas)\n",
    "print(\"Dados gravados com sucesso\")"
   ]
  },
  {
   "cell_type": "code",
   "execution_count": 0,
   "metadata": {
    "application/vnd.databricks.v1+cell": {
     "cellMetadata": {
      "byteLimit": 2048000,
      "rowLimit": 10000
     },
     "inputWidgets": {},
     "nuid": "10105d91-b5b2-4ce6-913c-861a8bbe54ac",
     "showTitle": false,
     "tableResultSettingsMap": {},
     "title": ""
    }
   },
   "outputs": [
    {
     "output_type": "stream",
     "name": "stdout",
     "output_type": "stream",
     "text": [
      "Otimização Finalizada\n"
     ]
    }
   ],
   "source": [
    "spark.sql(f\"OPTIMIZE {database}.{tabela}\")\n",
    "print(\"Otimização Finalizada\")"
   ]
  },
  {
   "cell_type": "code",
   "execution_count": 0,
   "metadata": {
    "application/vnd.databricks.v1+cell": {
     "cellMetadata": {
      "byteLimit": 2048000,
      "implicitDf": true,
      "rowLimit": 10000
     },
     "inputWidgets": {},
     "nuid": "cbe8e200-45ea-45a2-8559-5c5b53743efa",
     "showTitle": false,
     "tableResultSettingsMap": {},
     "title": ""
    }
   },
   "outputs": [
    {
     "output_type": "display_data",
     "data": {
      "text/html": [
       "<style scoped>\n",
       "  .table-result-container {\n",
       "    max-height: 300px;\n",
       "    overflow: auto;\n",
       "  }\n",
       "  table, th, td {\n",
       "    border: 1px solid black;\n",
       "    border-collapse: collapse;\n",
       "  }\n",
       "  th, td {\n",
       "    padding: 5px;\n",
       "  }\n",
       "  th {\n",
       "    text-align: left;\n",
       "  }\n",
       "</style><div class='table-result-container'><table class='table-result'><thead style='background-color: white'><tr><th>Nome_produto</th><th>quantidade_total</th><th>valor_total</th><th>faturamento_total</th></tr></thead><tbody><tr><td>Cerveja XYZ</td><td>15036</td><td>606.78</td><td>165041.51</td></tr><tr><td>Vinho ABC</td><td>14191</td><td>614.80</td><td>168253.57</td></tr><tr><td>Suco Natural</td><td>12931</td><td>444.03</td><td>126052.65</td></tr><tr><td>Água Mineral</td><td>12874</td><td>533.71</td><td>135812.69</td></tr><tr><td>Refrigerante 123</td><td>11741</td><td>459.77</td><td>129574.58</td></tr></tbody></table></div>"
      ]
     },
     "metadata": {
      "application/vnd.databricks.v1+output": {
       "addedWidgets": {},
       "aggData": [],
       "aggError": "",
       "aggOverflow": false,
       "aggSchema": [],
       "aggSeriesLimitReached": false,
       "aggType": "",
       "arguments": {},
       "columnCustomDisplayInfos": {},
       "data": [
        [
         "Cerveja XYZ",
         15036,
         "606.78",
         "165041.51"
        ],
        [
         "Vinho ABC",
         14191,
         "614.80",
         "168253.57"
        ],
        [
         "Suco Natural",
         12931,
         "444.03",
         "126052.65"
        ],
        [
         "Água Mineral",
         12874,
         "533.71",
         "135812.69"
        ],
        [
         "Refrigerante 123",
         11741,
         "459.77",
         "129574.58"
        ]
       ],
       "datasetInfos": [],
       "dbfsResultPath": null,
       "isJsonSchema": true,
       "metadata": {
        "dataframeName": "_sqldf",
        "executionCount": 12
       },
       "overflow": false,
       "plotOptions": {
        "customPlotOptions": {},
        "displayType": "table",
        "pivotAggregation": null,
        "pivotColumns": null,
        "xColumns": null,
        "yColumns": null
       },
       "removedWidgets": [],
       "schema": [
        {
         "metadata": "{\"comment\":\"chave do prodiuto\"}",
         "name": "Nome_produto",
         "type": "\"string\""
        },
        {
         "metadata": "{\"comment\":\"Quantidade vendida na operação\"}",
         "name": "quantidade_total",
         "type": "\"integer\""
        },
        {
         "metadata": "{\"comment\":\"soma faturamento\"}",
         "name": "valor_total",
         "type": "\"decimal(20,2)\""
        },
        {
         "metadata": "{\"comment\":\"faturamento de vera\"}",
         "name": "faturamento_total",
         "type": "\"decimal(20,2)\""
        }
       ],
       "type": "table"
      }
     },
     "output_type": "display_data"
    }
   ],
   "source": [
    "%sql\n",
    "--1 \n",
    "SELECT *\n",
    "FROM gold.venda_total_pedidos\n",
    "ORDER BY quantidade_total DESC --Pra mim, n faz mto sentido comparar diferentes produtos por QUANTIDADE! Melhor faturamento!!!!\n",
    "LIMIT 5;"
   ]
  },
  {
   "cell_type": "code",
   "execution_count": 0,
   "metadata": {
    "application/vnd.databricks.v1+cell": {
     "cellMetadata": {
      "byteLimit": 2048000,
      "implicitDf": true,
      "rowLimit": 10000
     },
     "inputWidgets": {},
     "nuid": "e9c57a8b-62a9-47ee-9959-cebf3b2fb9d9",
     "showTitle": false,
     "tableResultSettingsMap": {},
     "title": ""
    }
   },
   "outputs": [
    {
     "output_type": "display_data",
     "data": {
      "text/html": [
       "<style scoped>\n",
       "  .table-result-container {\n",
       "    max-height: 300px;\n",
       "    overflow: auto;\n",
       "  }\n",
       "  table, th, td {\n",
       "    border: 1px solid black;\n",
       "    border-collapse: collapse;\n",
       "  }\n",
       "  th, td {\n",
       "    padding: 5px;\n",
       "  }\n",
       "  th {\n",
       "    text-align: left;\n",
       "  }\n",
       "</style><div class='table-result-container'><table class='table-result'><thead style='background-color: white'><tr><th>Nome_produto</th><th>quantidade_total</th><th>valor_total</th><th>faturamento_total</th></tr></thead><tbody><tr><td>Vinho ABC</td><td>14191</td><td>614.80</td><td>168253.57</td></tr><tr><td>Cerveja XYZ</td><td>15036</td><td>606.78</td><td>165041.51</td></tr><tr><td>Água Mineral</td><td>12874</td><td>533.71</td><td>135812.69</td></tr><tr><td>Refrigerante 123</td><td>11741</td><td>459.77</td><td>129574.58</td></tr><tr><td>Suco Natural</td><td>12931</td><td>444.03</td><td>126052.65</td></tr></tbody></table></div>"
      ]
     },
     "metadata": {
      "application/vnd.databricks.v1+output": {
       "addedWidgets": {},
       "aggData": [],
       "aggError": "",
       "aggOverflow": false,
       "aggSchema": [],
       "aggSeriesLimitReached": false,
       "aggType": "",
       "arguments": {},
       "columnCustomDisplayInfos": {},
       "data": [
        [
         "Vinho ABC",
         14191,
         "614.80",
         "168253.57"
        ],
        [
         "Cerveja XYZ",
         15036,
         "606.78",
         "165041.51"
        ],
        [
         "Água Mineral",
         12874,
         "533.71",
         "135812.69"
        ],
        [
         "Refrigerante 123",
         11741,
         "459.77",
         "129574.58"
        ],
        [
         "Suco Natural",
         12931,
         "444.03",
         "126052.65"
        ]
       ],
       "datasetInfos": [],
       "dbfsResultPath": null,
       "isJsonSchema": true,
       "metadata": {
        "dataframeName": "_sqldf",
        "executionCount": 14
       },
       "overflow": false,
       "plotOptions": {
        "customPlotOptions": {},
        "displayType": "table",
        "pivotAggregation": null,
        "pivotColumns": null,
        "xColumns": null,
        "yColumns": null
       },
       "removedWidgets": [],
       "schema": [
        {
         "metadata": "{\"comment\":\"chave do prodiuto\"}",
         "name": "Nome_produto",
         "type": "\"string\""
        },
        {
         "metadata": "{\"comment\":\"Quantidade vendida na operação\"}",
         "name": "quantidade_total",
         "type": "\"integer\""
        },
        {
         "metadata": "{\"comment\":\"soma faturamento\"}",
         "name": "valor_total",
         "type": "\"decimal(20,2)\""
        },
        {
         "metadata": "{\"comment\":\"faturamento de vera\"}",
         "name": "faturamento_total",
         "type": "\"decimal(20,2)\""
        }
       ],
       "type": "table"
      }
     },
     "output_type": "display_data"
    }
   ],
   "source": [
    "%sql\n",
    "--1 \n",
    "SELECT *\n",
    "FROM gold.venda_total_pedidos\n",
    "ORDER BY faturamento_total DESC \n",
    "LIMIT 5;\n",
    "\n",
    "-- CHECAR COM O PATRICK: quando o meu DPM pede o maior produto em VENDAS, eu deveria olhar QTT*preço ou  apenas preço.?"
   ]
  }
 ],
 "metadata": {
  "application/vnd.databricks.v1+notebook": {
   "computePreferences": null,
   "dashboards": [],
   "environmentMetadata": {
    "base_environment": "",
    "client": "1"
   },
   "language": "python",
   "notebookMetadata": {
    "mostRecentlyExecutedCommandWithImplicitDF": {
     "commandId": 449585001928345,
     "dataframes": [
      "_sqldf"
     ]
    },
    "pythonIndentUnit": 4
   },
   "notebookName": "gold_table_pedidos",
   "widgets": {}
  }
 },
 "nbformat": 4,
 "nbformat_minor": 0
}
