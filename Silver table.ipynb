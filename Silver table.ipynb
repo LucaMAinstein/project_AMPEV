{
 "cells": [
  {
   "cell_type": "markdown",
   "metadata": {
    "application/vnd.databricks.v1+cell": {
     "cellMetadata": {
      "byteLimit": 2048000,
      "rowLimit": 10000
     },
     "inputWidgets": {},
     "nuid": "f8d4e71b-c66d-4a7c-b58e-cc4d694d0965",
     "showTitle": false,
     "tableResultSettingsMap": {},
     "title": ""
    }
   },
   "source": [
    "# Camada SILVER\n",
    "\n",
    "## Informações Gerais\n",
    "  | Information | Details |\n",
    "  |---------|------|\n",
    "  |Table Name | silver.pedidos|\n",
    "  |Origem | bronze.pedidos / bronze.estabalecimentos|\n",
    "\n",
    "## Histórico de Atualizações\n",
    "|Data | Desenvolvido por | Motivo |\n",
    "|:------:|--------|-------|\n",
    "|mm/dd/aaaa|Data Eng.|details|\n",
    "\n"
   ]
  },
  {
   "cell_type": "code",
   "execution_count": 0,
   "metadata": {
    "application/vnd.databricks.v1+cell": {
     "cellMetadata": {
      "byteLimit": 2048000,
      "rowLimit": 10000
     },
     "inputWidgets": {},
     "nuid": "0a1ebbe4-fde8-484d-88df-a46dc6a31648",
     "showTitle": false,
     "tableResultSettingsMap": {},
     "title": ""
    }
   },
   "outputs": [],
   "source": [
    "### Import of libs\n",
    "\n",
    "from pyspark.sql.functions import current_date, current_timestamp, expr"
   ]
  },
  {
   "cell_type": "code",
   "execution_count": 0,
   "metadata": {
    "application/vnd.databricks.v1+cell": {
     "cellMetadata": {
      "byteLimit": 2048000,
      "rowLimit": 10000
     },
     "inputWidgets": {},
     "nuid": "eda7fab8-9b0d-4a84-90cd-8b2d117f721c",
     "showTitle": false,
     "tableResultSettingsMap": {},
     "title": ""
    }
   },
   "outputs": [],
   "source": [
    "# Funções\n",
    "\n",
    "## Função que aplica comentário na tabela!\n",
    "\n",
    "def adicionaComentariosTabela(a,b,c,d):\n",
    "    spark.sql(f\"COMMENT ON TABLE {a}.{b} IS 'C'\")\n",
    "    for key,value in d.items():\n",
    "        sqlaux = f\"ALTER TABLE {a}.{b} CHANGE COLUMN {key} COMMENT '{value}'\"\n",
    "        spark.sql(sqlaux)"
   ]
  },
  {
   "cell_type": "code",
   "execution_count": 0,
   "metadata": {
    "application/vnd.databricks.v1+cell": {
     "cellMetadata": {
      "byteLimit": 2048000,
      "rowLimit": 10000
     },
     "inputWidgets": {},
     "nuid": "bfe569f4-aeae-413d-88fa-fb20762e1c5c",
     "showTitle": false,
     "tableResultSettingsMap": {},
     "title": ""
    }
   },
   "outputs": [],
   "source": [
    "## Silver Table creation estabelecimento\n",
    "\n",
    "### Name all var\n",
    "\n",
    "database = \"silver\"\n",
    "tabela = \"pedidos\"\n",
    "\n",
    "### Table Creation\n",
    "\n",
    "df_pedidos = spark.sql(\n",
    "f\"\"\"\n",
    "WITH pedidos AS (\n",
    "SELECT\n",
    "    PedidoID AS id_pedido,\n",
    "    EstabelecimentoID AS id_estabelecimento,\n",
    "    Produto,\n",
    "    quantidade_vendida,\n",
    "    Preco_Unitario,\n",
    "    data_venda\n",
    "FROM \n",
    "    bronze.pedidos\n",
    "),\n",
    "estabelecimentos AS (\n",
    "SELECT \n",
    "    Local AS nome_estabalecimento,\n",
    "    Email,\n",
    "    EstabelecimentoID AS id_estabelecimento,\n",
    "    Telefone\n",
    "FROM\n",
    "    bronze.estabelecimentos\n",
    ")\n",
    "SELECT\n",
    "    CAST(ped.id_pedido AS int),\n",
    "    CAST(ped.id_estabelecimento AS int),\n",
    "    ped.Produto,\n",
    "    CAST(ped.quantidade_vendida AS int),\n",
    "    CAST(ped.Preco_Unitario AS DECIMAL(20,2)),\n",
    "    CAST(ped.data_venda AS DATE),\n",
    "    est.nome_estabalecimento,\n",
    "    est.Email,\n",
    "    est.Telefone\n",
    "FROM\n",
    "    pedidos ped\n",
    "LEFT JOIN \n",
    "    estabelecimentos est\n",
    "ON ped.id_estabelecimento = est.id_estabelecimento\n",
    "\n",
    "\n",
    "\"\"\"\n",
    ")\n",
    "\n"
   ]
  },
  {
   "cell_type": "code",
   "execution_count": 0,
   "metadata": {
    "application/vnd.databricks.v1+cell": {
     "cellMetadata": {
      "byteLimit": 2048000,
      "rowLimit": 10000
     },
     "inputWidgets": {},
     "nuid": "bc41d58c-02b1-4b86-bb8a-8f90f70d2b20",
     "showTitle": false,
     "tableResultSettingsMap": {},
     "title": ""
    }
   },
   "outputs": [
    {
     "output_type": "stream",
     "name": "stdout",
     "output_type": "stream",
     "text": [
      "Dados Gravados!\n"
     ]
    }
   ],
   "source": [
    "## Na camada SILVER é necessário a existência de Metadados, para maior compreensão das colunas. \n",
    "#Isso pode ser feito de forma MANUAL ou automática\n",
    "\n",
    "# para automatico, ver a função AdicionaComentariosTabela\n",
    "\n",
    "comentario_tabela = \"esta tabela é uma tabela corporativa para XXX usos\"\n",
    "\n",
    "lista_comentario_colunas ={\n",
    "'id_pedido' : 'ID do Pedido (PK)',\n",
    "'id_estabelecimento' : 'ID do Establ (FK)',\n",
    "'Produto' : 'Nome do Produto',\n",
    "'quantidade_vendida': 'Quantidade vendida na operação',\n",
    "'Preco_Unitario': 'Preço unitario lançado',\n",
    "'data_venda': 'data',\n",
    "'nome_estabalecimento': 'nome fantasia',\n",
    "'Email': 'string',\n",
    "'Telefone': 'com DDD'\n",
    "}\n",
    "\n",
    "print('Dados Gravados!')"
   ]
  },
  {
   "cell_type": "code",
   "execution_count": 0,
   "metadata": {
    "application/vnd.databricks.v1+cell": {
     "cellMetadata": {
      "byteLimit": 2048000,
      "rowLimit": 10000
     },
     "inputWidgets": {},
     "nuid": "40c750e2-292f-45d5-889c-df18ca8cc1e7",
     "showTitle": false,
     "tableResultSettingsMap": {},
     "title": ""
    }
   },
   "outputs": [
    {
     "output_type": "stream",
     "name": "stdout",
     "output_type": "stream",
     "text": [
      "Dados gravados com sucesso\n"
     ]
    }
   ],
   "source": [
    "### Save the dateframe as a table\n",
    "\n",
    "df_pedidos.write \\\n",
    "    .format('delta') \\\n",
    "    .mode('overwrite') \\\n",
    "    .clusterBy(\"id_pedido\") \\\n",
    "    .option('mergeSchema','true') \\\n",
    "    .option('overwriteSchema','true') \\\n",
    "    .saveAsTable(f'{database}.{tabela}')\n",
    "adicionaComentariosTabela(database,tabela,comentario_tabela,lista_comentario_colunas)\n",
    "print(\"Dados gravados com sucesso\")"
   ]
  },
  {
   "cell_type": "code",
   "execution_count": 0,
   "metadata": {
    "application/vnd.databricks.v1+cell": {
     "cellMetadata": {
      "byteLimit": 2048000,
      "implicitDf": true,
      "rowLimit": 10000
     },
     "inputWidgets": {},
     "nuid": "b0eeb3f0-ae33-47a8-9e4a-536f027c3d4b",
     "showTitle": false,
     "tableResultSettingsMap": {},
     "title": ""
    }
   },
   "outputs": [
    {
     "output_type": "stream",
     "name": "stdout",
     "output_type": "stream",
     "text": [
      "Otimização Finalizada\n"
     ]
    }
   ],
   "source": [
    "spark.sql(f\"OPTIMIZE {database}.{tabela}\")\n",
    "print(\"Otimização Finalizada\")"
   ]
  }
 ],
 "metadata": {
  "application/vnd.databricks.v1+notebook": {
   "computePreferences": null,
   "dashboards": [],
   "environmentMetadata": {
    "base_environment": "",
    "client": "1"
   },
   "language": "python",
   "notebookMetadata": {
    "mostRecentlyExecutedCommandWithImplicitDF": {
     "commandId": -1,
     "dataframes": [
      "_sqldf"
     ]
    },
    "pythonIndentUnit": 4
   },
   "notebookName": "Silver table",
   "widgets": {}
  }
 },
 "nbformat": 4,
 "nbformat_minor": 0
}
