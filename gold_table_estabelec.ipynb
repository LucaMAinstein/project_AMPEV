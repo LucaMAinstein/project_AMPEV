{
 "cells": [
  {
   "cell_type": "markdown",
   "metadata": {
    "application/vnd.databricks.v1+cell": {
     "cellMetadata": {},
     "inputWidgets": {},
     "nuid": "9da2cd59-4341-4f54-9ec3-63ee17b2b509",
     "showTitle": false,
     "tableResultSettingsMap": {},
     "title": ""
    }
   },
   "source": [
    "# Camada GOLD\n",
    "\n",
    "## Informações Gerais\n",
    "  | Information | Details |\n",
    "  |---------|------|\n",
    "  |Table Name | gold.pedidos|\n",
    "  |Origem | silver.pedidos|\n",
    "\n",
    "## Histórico de Atualizações\n",
    "|Data | Desenvolvido por | Motivo |\n",
    "|:------:|--------|-------|\n",
    "|mm/dd/aaaa|Data Eng.|details|"
   ]
  },
  {
   "cell_type": "code",
   "execution_count": 0,
   "metadata": {
    "application/vnd.databricks.v1+cell": {
     "cellMetadata": {
      "byteLimit": 2048000,
      "rowLimit": 10000
     },
     "inputWidgets": {},
     "nuid": "b711eccc-03ea-4b7d-a00d-c57540bc2eec",
     "showTitle": false,
     "tableResultSettingsMap": {},
     "title": ""
    }
   },
   "outputs": [],
   "source": [
    "### Import of libs\n",
    "\n",
    "from pyspark.sql.functions import current_date, current_timestamp, expr"
   ]
  },
  {
   "cell_type": "code",
   "execution_count": 0,
   "metadata": {
    "application/vnd.databricks.v1+cell": {
     "cellMetadata": {
      "byteLimit": 2048000,
      "rowLimit": 10000
     },
     "inputWidgets": {},
     "nuid": "aac60ef5-fda3-4f11-8ad9-f9b43007dbc8",
     "showTitle": false,
     "tableResultSettingsMap": {},
     "title": ""
    }
   },
   "outputs": [],
   "source": [
    "### Nome do Esquema e Tabela no catálogo\n",
    "\n",
    "database = 'gold'\n",
    "tabela = 'venda_total_estabelecimentos'"
   ]
  },
  {
   "cell_type": "code",
   "execution_count": 0,
   "metadata": {
    "application/vnd.databricks.v1+cell": {
     "cellMetadata": {
      "byteLimit": 2048000,
      "rowLimit": 10000
     },
     "inputWidgets": {},
     "nuid": "692a0704-4779-4449-a224-7ff89a98c275",
     "showTitle": false,
     "tableResultSettingsMap": {},
     "title": ""
    }
   },
   "outputs": [],
   "source": [
    "# Funções\n",
    "\n",
    "## Função que aplica comentário na tabela!\n",
    "\n",
    "def adicionaComentariosTabela(a,b,c,d):\n",
    "    spark.sql(f\"COMMENT ON TABLE {a}.{b} IS 'C'\")\n",
    "    for key,value in d.items():\n",
    "        sqlaux = f\"ALTER TABLE {a}.{b} CHANGE COLUMN {key} COMMENT '{value}'\"\n",
    "        spark.sql(sqlaux)"
   ]
  },
  {
   "cell_type": "code",
   "execution_count": 0,
   "metadata": {
    "application/vnd.databricks.v1+cell": {
     "cellMetadata": {
      "byteLimit": 2048000,
      "rowLimit": 10000
     },
     "inputWidgets": {},
     "nuid": "7a47af29-abb7-4a98-8e61-92ab5e7da3d4",
     "showTitle": false,
     "tableResultSettingsMap": {},
     "title": ""
    }
   },
   "outputs": [],
   "source": [
    "df_pedidos = spark.sql(\n",
    "f\"\"\"\n",
    "SELECT\n",
    "    CAST(id_estabelecimento AS INT),\n",
    "    nome_estabalecimento,\n",
    "    Produto AS Nome_produto,\n",
    "    CAST(SUM(quantidade_vendida) AS INT) AS quantidade_total,\n",
    "    CAST(SUM(Preco_Unitario) AS DECIMAL(20,2)) AS valor_total\n",
    "FROM\n",
    "    silver.pedidos\n",
    "GROUP BY all\n",
    "\"\"\")"
   ]
  },
  {
   "cell_type": "code",
   "execution_count": 0,
   "metadata": {
    "application/vnd.databricks.v1+cell": {
     "cellMetadata": {
      "byteLimit": 2048000,
      "rowLimit": 10000
     },
     "inputWidgets": {},
     "nuid": "449c1994-a02d-45d7-a9ef-8fd87cf0b9d5",
     "showTitle": false,
     "tableResultSettingsMap": {},
     "title": ""
    }
   },
   "outputs": [],
   "source": [
    "## Incluir colunas de controle\n",
    "\n",
    "df_pedidos = df_pedidos.withColumn(\"data_carga\", current_date())\n",
    "df_pedidos = df_pedidos.withColumn(\"data_hora_carga\", expr(\"current_timestamp() - INTERVAL 3 HOURS\"))\n"
   ]
  },
  {
   "cell_type": "code",
   "execution_count": 0,
   "metadata": {
    "application/vnd.databricks.v1+cell": {
     "cellMetadata": {
      "byteLimit": 2048000,
      "rowLimit": 10000
     },
     "inputWidgets": {},
     "nuid": "e9667d9b-b190-4114-93a4-1d2ada01536a",
     "showTitle": false,
     "tableResultSettingsMap": {},
     "title": ""
    }
   },
   "outputs": [
    {
     "output_type": "stream",
     "name": "stdout",
     "output_type": "stream",
     "text": [
      "Dados Gravados!\n"
     ]
    }
   ],
   "source": [
    "## Na camada GOLS é necessário a existência de Metadados, para maior compreensão das colunas. \n",
    "#Isso pode ser feito de forma MANUAL ou automática\n",
    "\n",
    "# para automatico, ver a função AdicionaComentariosTabela\n",
    "\n",
    "comentario_tabela = \"esta tabela é uma tabela corporativa para XXX usos\"\n",
    "\n",
    "lista_comentario_colunas ={\n",
    "'id_estabelecimento' : 'ID do Establ (FK)',\n",
    "'quantidade_total': 'Quantidade vendida na operação',\n",
    "'nome_estabalecimento': 'nome fantasia',\n",
    "'Nome_produto': 'string',\n",
    "'valor_total': 'soma faturamento'\n",
    "}\n",
    "\n",
    "print('Dados Gravados!')\n"
   ]
  },
  {
   "cell_type": "code",
   "execution_count": 0,
   "metadata": {
    "application/vnd.databricks.v1+cell": {
     "cellMetadata": {
      "byteLimit": 2048000,
      "rowLimit": 10000
     },
     "inputWidgets": {},
     "nuid": "0b470183-1c32-49d3-abc7-1794396fac1c",
     "showTitle": false,
     "tableResultSettingsMap": {},
     "title": ""
    }
   },
   "outputs": [
    {
     "output_type": "stream",
     "name": "stdout",
     "output_type": "stream",
     "text": [
      "Dados gravados com sucesso\n"
     ]
    }
   ],
   "source": [
    "df_pedidos.write \\\n",
    "    .format('delta') \\\n",
    "    .mode('overwrite') \\\n",
    "    .clusterBy(\"id_estabelecimento\") \\\n",
    "    .option('mergeSchema','true') \\\n",
    "    .option('overwriteSchema','true') \\\n",
    "    .saveAsTable(f'{database}.{tabela}')\n",
    "adicionaComentariosTabela(database,tabela,comentario_tabela,lista_comentario_colunas)\n",
    "print(\"Dados gravados com sucesso\")"
   ]
  },
  {
   "cell_type": "code",
   "execution_count": 0,
   "metadata": {
    "application/vnd.databricks.v1+cell": {
     "cellMetadata": {
      "byteLimit": 2048000,
      "rowLimit": 10000
     },
     "inputWidgets": {},
     "nuid": "10105d91-b5b2-4ce6-913c-861a8bbe54ac",
     "showTitle": false,
     "tableResultSettingsMap": {},
     "title": ""
    }
   },
   "outputs": [
    {
     "output_type": "stream",
     "name": "stdout",
     "output_type": "stream",
     "text": [
      "Otimização Finalizada\n"
     ]
    }
   ],
   "source": [
    "spark.sql(f\"OPTIMIZE {database}.{tabela}\")\n",
    "print(\"Otimização Finalizada\")"
   ]
  },
  {
   "cell_type": "code",
   "execution_count": 0,
   "metadata": {
    "application/vnd.databricks.v1+cell": {
     "cellMetadata": {
      "byteLimit": 2048000,
      "implicitDf": true,
      "rowLimit": 10000
     },
     "inputWidgets": {},
     "nuid": "cbe8e200-45ea-45a2-8559-5c5b53743efa",
     "showTitle": false,
     "tableResultSettingsMap": {},
     "title": ""
    }
   },
   "outputs": [
    {
     "output_type": "display_data",
     "data": {
      "text/html": [
       "<style scoped>\n",
       "  .table-result-container {\n",
       "    max-height: 300px;\n",
       "    overflow: auto;\n",
       "  }\n",
       "  table, th, td {\n",
       "    border: 1px solid black;\n",
       "    border-collapse: collapse;\n",
       "  }\n",
       "  th, td {\n",
       "    padding: 5px;\n",
       "  }\n",
       "  th {\n",
       "    text-align: left;\n",
       "  }\n",
       "</style><div class='table-result-container'><table class='table-result'><thead style='background-color: white'><tr><th>id_estabelecimento</th><th>nome_estabalecimento</th><th>Nome_produto</th><th>quantidade_total</th><th>valor_total</th><th>data_carga</th><th>data_hora_carga</th></tr></thead><tbody><tr><td>29</td><td>Lanchonete Top</td><td>Cerveja XYZ</td><td>1488</td><td>42.35</td><td>2024-12-29</td><td>2024-12-28T23:52:29.783Z</td></tr><tr><td>50</td><td>Bar do João</td><td>Suco Natural</td><td>1313</td><td>50.75</td><td>2024-12-29</td><td>2024-12-28T23:52:29.783Z</td></tr><tr><td>39</td><td>Bar da Esquina</td><td>Vinho ABC</td><td>1268</td><td>38.05</td><td>2024-12-29</td><td>2024-12-28T23:52:29.783Z</td></tr><tr><td>27</td><td>Oficina Mecânica</td><td>Cerveja XYZ</td><td>1247</td><td>38.26</td><td>2024-12-29</td><td>2024-12-28T23:52:29.783Z</td></tr><tr><td>41</td><td>Pizzaria Italiana</td><td>Cerveja XYZ</td><td>1068</td><td>27.40</td><td>2024-12-29</td><td>2024-12-28T23:52:29.783Z</td></tr></tbody></table></div>"
      ]
     },
     "metadata": {
      "application/vnd.databricks.v1+output": {
       "addedWidgets": {},
       "aggData": [],
       "aggError": "",
       "aggOverflow": false,
       "aggSchema": [],
       "aggSeriesLimitReached": false,
       "aggType": "",
       "arguments": {},
       "columnCustomDisplayInfos": {},
       "data": [
        [
         29,
         "Lanchonete Top",
         "Cerveja XYZ",
         1488,
         "42.35",
         "2024-12-29",
         "2024-12-28T23:52:29.783Z"
        ],
        [
         50,
         "Bar do João",
         "Suco Natural",
         1313,
         "50.75",
         "2024-12-29",
         "2024-12-28T23:52:29.783Z"
        ],
        [
         39,
         "Bar da Esquina",
         "Vinho ABC",
         1268,
         "38.05",
         "2024-12-29",
         "2024-12-28T23:52:29.783Z"
        ],
        [
         27,
         "Oficina Mecânica",
         "Cerveja XYZ",
         1247,
         "38.26",
         "2024-12-29",
         "2024-12-28T23:52:29.783Z"
        ],
        [
         41,
         "Pizzaria Italiana",
         "Cerveja XYZ",
         1068,
         "27.40",
         "2024-12-29",
         "2024-12-28T23:52:29.783Z"
        ]
       ],
       "datasetInfos": [],
       "dbfsResultPath": null,
       "isJsonSchema": true,
       "metadata": {
        "dataframeName": "_sqldf",
        "executionCount": 14
       },
       "overflow": false,
       "plotOptions": {
        "customPlotOptions": {},
        "displayType": "table",
        "pivotAggregation": null,
        "pivotColumns": null,
        "xColumns": null,
        "yColumns": null
       },
       "removedWidgets": [],
       "schema": [
        {
         "metadata": "{\"comment\":\"ID do Establ (FK)\"}",
         "name": "id_estabelecimento",
         "type": "\"integer\""
        },
        {
         "metadata": "{\"comment\":\"nome fantasia\"}",
         "name": "nome_estabalecimento",
         "type": "\"string\""
        },
        {
         "metadata": "{\"comment\":\"string\"}",
         "name": "Nome_produto",
         "type": "\"string\""
        },
        {
         "metadata": "{\"comment\":\"Quantidade vendida na operação\"}",
         "name": "quantidade_total",
         "type": "\"integer\""
        },
        {
         "metadata": "{\"comment\":\"soma faturamento\"}",
         "name": "valor_total",
         "type": "\"decimal(20,2)\""
        },
        {
         "metadata": "{}",
         "name": "data_carga",
         "type": "\"date\""
        },
        {
         "metadata": "{}",
         "name": "data_hora_carga",
         "type": "\"timestamp\""
        }
       ],
       "type": "table"
      }
     },
     "output_type": "display_data"
    }
   ],
   "source": [
    "%sql\n",
    "--1 \n",
    "SELECT *\n",
    "FROM gold.venda_total_estabelecimentos\n",
    "ORDER BY quantidade_total DESC --Pra mim, n faz mto sentido comparar diferentes produtos por QUANTIDADE! Melhor faturamento!!!!\n",
    "LIMIT 5;"
   ]
  }
 ],
 "metadata": {
  "application/vnd.databricks.v1+notebook": {
   "computePreferences": null,
   "dashboards": [],
   "environmentMetadata": {
    "base_environment": "",
    "client": "1"
   },
   "language": "python",
   "notebookMetadata": {
    "mostRecentlyExecutedCommandWithImplicitDF": {
     "commandId": 449585001928331,
     "dataframes": [
      "_sqldf"
     ]
    },
    "pythonIndentUnit": 4
   },
   "notebookName": "gold_table_estabelec",
   "widgets": {}
  }
 },
 "nbformat": 4,
 "nbformat_minor": 0
}
